{
 "cells": [
  {
   "cell_type": "markdown",
   "id": "ef6450b4-482b-4de0-bbb1-718fa6b787de",
   "metadata": {},
   "source": [
    "Q1. Write all the conventions being followed while declaring a variable."
   ]
  },
  {
   "cell_type": "markdown",
   "id": "f5c961e2-cf3c-4c39-8b55-5aff7ac9b395",
   "metadata": {},
   "source": [
    "\n",
    "In Python, there are several conventions to follow when declaring variables to write clean and readable code. These conventions are not enforced by the Python interpreter but are widely accepted in the Python community to make code more consistent:\n",
    "\n",
    "Variable Names: Choose descriptive and meaningful variable names that convey the purpose of the variable. Use lowercase letters and separate words with underscores for readability. For example, counter, user_name, total_sales.\n",
    "\n",
    "Snake Case: Use snake_case for variable names, where words are separated by underscores. It's the most common naming convention in Python.\n",
    "\n",
    "Constants: Use ALL_CAPS with underscores to represent constants. For example, PI, MAX_VALUE.\n",
    "\n",
    "Private Variables: If a variable is intended to be private (not accessed outside its class or module), start its name with a single underscore, e.g., _private_variable. However, note that this is just a convention, and Python does not enforce true privacy.\n",
    "\n",
    "Protected Variables: If a variable is intended to be protected (only partially accessible outside its class or module), start its name with a double underscore, e.g., __protected_variable. Again, this is just a convention.\n",
    "\n",
    "Class Names: Use CamelCase (capitalizing the first letter of each word) for class names. For example, MyClass, EmployeeDetails.\n",
    "\n",
    "Module Names: Use lowercase letters and separate words with underscores for module names. For example, my_module, utils.\n",
    "\n",
    "Function Names: Use lowercase letters and separate words with underscores for function names, similar to variable names. Choose descriptive names that indicate the function's purpose. For example, calculate_total, validate_input.\n",
    "\n",
    "Avoid Single-Character Names: Except for loop counters or similar temporary variables, avoid using single-character variable names like i, j, or x, as they may not be descriptive.\n",
    "\n",
    "Use PEP 8: PEP 8 is the Python Enhancement Proposal that provides style guidelines for writing clean and readable code in Python. Following PEP 8 conventions is recommended. You can use automated tools like linters and code formatters (e.g., pylint, black) to enforce PEP 8 compliance in your code."
   ]
  },
  {
   "cell_type": "markdown",
   "id": "5af347f5-a077-4a81-8f16-7ad55f65bab2",
   "metadata": {},
   "source": [
    "Q2. What will happen if we declare a restricted keyword as a variable?"
   ]
  },
  {
   "cell_type": "markdown",
   "id": "e4598ecc-a1e1-4e7d-ad81-887b1243de84",
   "metadata": {},
   "source": [
    "\n",
    "If you attempt to declare a restricted keyword as a variable in Python, you will encounter a syntax error, and your code will not run. Python has a set of reserved keywords that have special meanings and functions in the language. These keywords cannot be used as variable names because they are part of the Python language's syntax and semantics.\n",
    "\n",
    "Here are some examples of reserved keywords in Python:\n",
    "\n",
    "if\n",
    "else\n",
    "while\n",
    "for\n",
    "class\n",
    "def\n",
    "import\n",
    "try\n",
    "except\n",
    "True\n",
    "False\n",
    "None\n",
    "And many more..."
   ]
  },
  {
   "cell_type": "markdown",
   "id": "4d3bdbb8-6801-4eb0-8fa6-6a630a4c9d4c",
   "metadata": {},
   "source": [
    "Q3. Can we actually declare a string as a variable name?"
   ]
  },
  {
   "cell_type": "code",
   "execution_count": 3,
   "id": "9c57b958-5a39-4620-a901-62366931102d",
   "metadata": {},
   "outputs": [
    {
     "name": "stdout",
     "output_type": "stream",
     "text": [
      "42\n"
     ]
    }
   ],
   "source": [
    "# Creating a variable with a string name using a dictionary\n",
    "variable_name = \"my_variable\"\n",
    "my_dict = {}\n",
    "my_dict[variable_name] = 42\n",
    "\n",
    "# Accessing the variable\n",
    "print(my_dict[\"my_variable\"])  # Output: 42\n"
   ]
  },
  {
   "cell_type": "markdown",
   "id": "8046809b-2635-457f-820b-faaa64b71ebd",
   "metadata": {},
   "source": [
    "Q4. Is it possible for us to declare “_” as a variable? If so, then write an example of it."
   ]
  },
  {
   "cell_type": "code",
   "execution_count": 4,
   "id": "8095417d-adf7-4d7c-907d-09ef19225797",
   "metadata": {},
   "outputs": [
    {
     "name": "stdout",
     "output_type": "stream",
     "text": [
      "10\n",
      "Hello\n",
      "Hello\n",
      "Hello\n",
      "Hello\n",
      "Hello\n",
      "2\n"
     ]
    }
   ],
   "source": [
    "# Using _ as a variable to ignore a value\n",
    "x, _ = 10, 20\n",
    "print(x)  # Output: 10\n",
    "\n",
    "# Using _ to represent an unimportant variable\n",
    "for _ in range(5):\n",
    "    print(\"Hello\")\n",
    "\n",
    "# Ignoring a specific value in a tuple\n",
    "_, y, _ = (1, 2, 3)\n",
    "print(y)  # Output: 2\n"
   ]
  },
  {
   "cell_type": "markdown",
   "id": "6d01a0cf-06f7-474b-b3f4-1b62742d5008",
   "metadata": {},
   "source": [
    "Q5. Using an example, explain how the variables in python are dynamic in nature."
   ]
  },
  {
   "cell_type": "code",
   "execution_count": 5,
   "id": "41394c78-df9b-4948-a82b-7131804a14c3",
   "metadata": {},
   "outputs": [
    {
     "name": "stdout",
     "output_type": "stream",
     "text": [
      "10\n",
      "Hello\n",
      "5\n",
      "8\n",
      "3.14\n",
      "Python\n"
     ]
    }
   ],
   "source": [
    "# Dynamic data type assignment\n",
    "x = 10  # x is an integer\n",
    "print(x)  # Output: 10\n",
    "\n",
    "x = \"Hello\"  # x is now a string\n",
    "print(x)  # Output: Hello\n",
    "\n",
    "# Dynamic value assignment\n",
    "y = 5\n",
    "print(y)  # Output: 5\n",
    "\n",
    "y = y + 3  # Reassigning a new value to y\n",
    "print(y)  # Output: 8\n",
    "\n",
    "# Dynamic data type and value change\n",
    "z = 3.14  # z is a float\n",
    "print(z)  # Output: 3.14\n",
    "\n",
    "z = \"Python\"  # z is now a string\n",
    "print(z)  # Output: Python\n"
   ]
  },
  {
   "cell_type": "code",
   "execution_count": null,
   "id": "0e2aa58d-c347-4825-b55c-8e500ba56d74",
   "metadata": {},
   "outputs": [],
   "source": []
  }
 ],
 "metadata": {
  "kernelspec": {
   "display_name": "Python 3 (ipykernel)",
   "language": "python",
   "name": "python3"
  },
  "language_info": {
   "codemirror_mode": {
    "name": "ipython",
    "version": 3
   },
   "file_extension": ".py",
   "mimetype": "text/x-python",
   "name": "python",
   "nbconvert_exporter": "python",
   "pygments_lexer": "ipython3",
   "version": "3.10.8"
  }
 },
 "nbformat": 4,
 "nbformat_minor": 5
}
