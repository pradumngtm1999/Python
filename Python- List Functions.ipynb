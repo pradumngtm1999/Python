{
 "cells": [
  {
   "cell_type": "markdown",
   "id": "93e8c609-b94f-4f8b-9989-6448b5e722bc",
   "metadata": {},
   "source": [
    "Q1. What is the syntax for adding an element to a list in Python?"
   ]
  },
  {
   "cell_type": "markdown",
   "id": "1f11cb3b-d16d-4df3-a4b4-e0e81d8f7c3c",
   "metadata": {},
   "source": [
    "To add an element to a list in Python, you can use the append() method or the insert() method. Here's the syntax for both methods:\n"
   ]
  },
  {
   "cell_type": "markdown",
   "id": "40a5eff5-8ff4-4202-a529-06dd9fb804b0",
   "metadata": {},
   "source": [
    "Q2. What is the difference between remove() and pop() functions in Python?"
   ]
  },
  {
   "cell_type": "code",
   "execution_count": 4,
   "id": "48120e09-e96a-4cb7-b11c-7a163622e39f",
   "metadata": {},
   "outputs": [],
   "source": [
    "my_list = [1, 2, 3, 4, 3]\n",
    "my_list.remove(3) \n"
   ]
  },
  {
   "cell_type": "code",
   "execution_count": 5,
   "id": "c78f9055-0cba-4fd2-afc5-6b0bfe3649df",
   "metadata": {},
   "outputs": [],
   "source": [
    "my_list = [1, 2, 3, 4, 5]\n",
    "removed_element = my_list.pop(2)  \n"
   ]
  },
  {
   "cell_type": "markdown",
   "id": "ac9ce999-58c6-4b11-b0f2-e3b9ca1b4f11",
   "metadata": {},
   "source": [
    "Q3. Write a Python code to sort a list in descending order."
   ]
  },
  {
   "cell_type": "code",
   "execution_count": 6,
   "id": "92a527d8-d7d5-46af-ba11-35b72fb079b2",
   "metadata": {},
   "outputs": [
    {
     "name": "stdout",
     "output_type": "stream",
     "text": [
      "[9, 5, 5, 2, 1]\n"
     ]
    }
   ],
   "source": [
    "my_list = [5, 2, 9, 1, 5]\n",
    "my_list.sort(reverse=True)\n",
    "print(my_list)\n"
   ]
  },
  {
   "cell_type": "code",
   "execution_count": 7,
   "id": "cb8f61de-fa26-465f-ad65-dcd635a66a01",
   "metadata": {},
   "outputs": [
    {
     "name": "stdout",
     "output_type": "stream",
     "text": [
      "[9, 5, 5, 2, 1]\n"
     ]
    }
   ],
   "source": [
    "my_list = [5, 2, 9, 1, 5]\n",
    "sorted_list = sorted(my_list, reverse=True)\n",
    "print(sorted_list)\n"
   ]
  },
  {
   "cell_type": "markdown",
   "id": "6773396a-6395-407e-9418-b351104338ed",
   "metadata": {},
   "source": [
    "Q4. Write a Python code to count the number of occurrences of an element in a list."
   ]
  },
  {
   "cell_type": "code",
   "execution_count": 8,
   "id": "11ecb9fe-701c-4daa-8cb1-cb3684e90f12",
   "metadata": {},
   "outputs": [
    {
     "name": "stdout",
     "output_type": "stream",
     "text": [
      "The element 2 appears 3 times in the list.\n"
     ]
    }
   ],
   "source": [
    "my_list = [1, 2, 3, 2, 4, 2, 5]\n",
    "element_to_count = 2\n",
    "\n",
    "count = my_list.count(element_to_count)\n",
    "\n",
    "print(f\"The element {element_to_count} appears {count} times in the list.\")\n"
   ]
  },
  {
   "cell_type": "markdown",
   "id": "ac2245d4-7458-4f48-b9d9-0764a8da4226",
   "metadata": {},
   "source": [
    "Q5. Write a Python code to reverse a list."
   ]
  },
  {
   "cell_type": "code",
   "execution_count": 9,
   "id": "3545af50-ab5c-4a3e-92a1-93699d2d56d4",
   "metadata": {},
   "outputs": [
    {
     "name": "stdout",
     "output_type": "stream",
     "text": [
      "[5, 4, 3, 2, 1]\n"
     ]
    }
   ],
   "source": [
    "my_list = [1, 2, 3, 4, 5]\n",
    "my_list.reverse()\n",
    "print(my_list)\n"
   ]
  },
  {
   "cell_type": "code",
   "execution_count": null,
   "id": "95ec1767-e677-4a5b-89a3-34980138c117",
   "metadata": {},
   "outputs": [],
   "source": []
  }
 ],
 "metadata": {
  "kernelspec": {
   "display_name": "Python 3 (ipykernel)",
   "language": "python",
   "name": "python3"
  },
  "language_info": {
   "codemirror_mode": {
    "name": "ipython",
    "version": 3
   },
   "file_extension": ".py",
   "mimetype": "text/x-python",
   "name": "python",
   "nbconvert_exporter": "python",
   "pygments_lexer": "ipython3",
   "version": "3.10.8"
  }
 },
 "nbformat": 4,
 "nbformat_minor": 5
}
