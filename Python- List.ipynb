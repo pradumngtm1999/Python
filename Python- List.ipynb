{
 "cells": [
  {
   "cell_type": "markdown",
   "id": "2e1bef50-5599-4653-9cac-a40e4653ebe0",
   "metadata": {},
   "source": [
    "Q1. Create an empty list."
   ]
  },
  {
   "cell_type": "code",
   "execution_count": 1,
   "id": "562ae5d5-5189-43dd-aa63-e0a20754a835",
   "metadata": {},
   "outputs": [],
   "source": [
    "empty_list = []\n"
   ]
  },
  {
   "cell_type": "markdown",
   "id": "625222c1-d4fc-470a-b141-b225160f9733",
   "metadata": {},
   "source": [
    "Q2. Create a list and add an element to the end of this list."
   ]
  },
  {
   "cell_type": "code",
   "execution_count": 3,
   "id": "b8a2ffe0-adb2-452a-b8f5-00cdc5319299",
   "metadata": {},
   "outputs": [],
   "source": [
    "\n",
    "my_list = []\n",
    "\n",
    "\n",
    "my_list.append(4)\n",
    "\n"
   ]
  },
  {
   "cell_type": "markdown",
   "id": "0e3b60dd-b575-456c-a4af-9b1e973364ae",
   "metadata": {},
   "source": [
    "Q3. For the above created list print the last element."
   ]
  },
  {
   "cell_type": "code",
   "execution_count": 4,
   "id": "c01be020-7c3a-4892-ae82-e2ceb0c30a4d",
   "metadata": {},
   "outputs": [
    {
     "name": "stdout",
     "output_type": "stream",
     "text": [
      "5\n"
     ]
    }
   ],
   "source": [
    "my_list = [1, 2, 3, 4, 5]\n",
    "\n",
    "\n",
    "print(my_list[-1])\n"
   ]
  },
  {
   "cell_type": "markdown",
   "id": "87518ee8-bd99-4826-9654-06c6296b89e3",
   "metadata": {},
   "source": [
    "Q4. Reverse the above created list."
   ]
  },
  {
   "cell_type": "code",
   "execution_count": 5,
   "id": "14a29b67-7da0-464e-87d6-a36d962dd2c8",
   "metadata": {},
   "outputs": [
    {
     "name": "stdout",
     "output_type": "stream",
     "text": [
      "[5, 4, 3, 2, 1]\n"
     ]
    }
   ],
   "source": [
    "\n",
    "my_list = [1, 2, 3, 4, 5]\n",
    "\n",
    "\n",
    "my_list.reverse()\n",
    "\n",
    "\n",
    "print(my_list)\n"
   ]
  },
  {
   "cell_type": "code",
   "execution_count": 6,
   "id": "4938da87-c19c-494e-b877-f4527caf032a",
   "metadata": {},
   "outputs": [
    {
     "name": "stdout",
     "output_type": "stream",
     "text": [
      "[5, 4, 3, 2, 1]\n"
     ]
    }
   ],
   "source": [
    "\n",
    "my_list = [1, 2, 3, 4, 5]\n",
    "\n",
    "\n",
    "reversed_list = my_list[::-1]\n",
    "\n",
    "\n",
    "print(reversed_list)\n"
   ]
  },
  {
   "cell_type": "markdown",
   "id": "980d39fa-a635-4f14-9e94-32f0130ab5a1",
   "metadata": {},
   "source": [
    "Q5. Sort the above created list."
   ]
  },
  {
   "cell_type": "code",
   "execution_count": 7,
   "id": "81a49a0e-9852-4070-a55b-ef6b5c765497",
   "metadata": {},
   "outputs": [
    {
     "name": "stdout",
     "output_type": "stream",
     "text": [
      "[1, 2, 3, 4, 5]\n"
     ]
    }
   ],
   "source": [
    "my_list = [5, 2, 1, 4, 3]\n",
    "\n",
    "my_list.sort()\n",
    "\n",
    "print(my_list)\n"
   ]
  },
  {
   "cell_type": "markdown",
   "id": "e7b9d321-836f-4a54-b686-4c27eadf9e8e",
   "metadata": {},
   "source": [
    "Q6. Create a list of your top three favorite movies, then print the second movie title."
   ]
  },
  {
   "cell_type": "code",
   "execution_count": 8,
   "id": "85d28294-e807-4948-9596-4fb03f867908",
   "metadata": {},
   "outputs": [
    {
     "name": "stdout",
     "output_type": "stream",
     "text": [
      "The second favorite movie is: Inception\n"
     ]
    }
   ],
   "source": [
    "favorite_movies = [\"The Shawshank Redemption\", \"Inception\", \"The Dark Knight\"]\n",
    "\n",
    "print(\"The second favorite movie is:\", favorite_movies[1])\n"
   ]
  },
  {
   "cell_type": "markdown",
   "id": "19e7226a-4890-4764-a1e0-befab19c86fb",
   "metadata": {},
   "source": [
    "Q7. Create a list of your favorite animals, then add a new animal to the list and print the updated list."
   ]
  },
  {
   "cell_type": "code",
   "execution_count": 9,
   "id": "e4231cfb-a9ca-499f-8e06-0d1638ba25f9",
   "metadata": {},
   "outputs": [
    {
     "name": "stdout",
     "output_type": "stream",
     "text": [
      "Updated list of favorite animals: ['Lion', 'Elephant', 'Dolphin', 'Tiger']\n"
     ]
    }
   ],
   "source": [
    "favorite_animals = [\"Lion\", \"Elephant\", \"Dolphin\"]\n",
    "\n",
    "favorite_animals.append(\"Tiger\")\n",
    "\n",
    "print(\"Updated list of favorite animals:\", favorite_animals)\n"
   ]
  },
  {
   "cell_type": "markdown",
   "id": "63273a25-276c-4fd6-8a4e-e191f5c7c454",
   "metadata": {},
   "source": [
    "Q8. Create a list of your favorite cities, then use the index() method to find the position of a specific city\n",
    "on the list and print it."
   ]
  },
  {
   "cell_type": "code",
   "execution_count": 10,
   "id": "183f2dae-1991-4391-879b-6f81f51d0269",
   "metadata": {},
   "outputs": [
    {
     "name": "stdout",
     "output_type": "stream",
     "text": [
      "The position of 'Tokyo' in the list is: 2\n"
     ]
    }
   ],
   "source": [
    "favorite_cities = [\"Paris\", \"New York\", \"Tokyo\", \"London\", \"Sydney\"]\n",
    "\n",
    "city_to_find = \"Tokyo\"\n",
    "position = favorite_cities.index(city_to_find)\n",
    "\n",
    "print(f\"The position of '{city_to_find}' in the list is:\", position)\n"
   ]
  },
  {
   "cell_type": "code",
   "execution_count": null,
   "id": "f2b1f898-3bc4-4dd7-9687-c37f2d466eab",
   "metadata": {},
   "outputs": [],
   "source": []
  }
 ],
 "metadata": {
  "kernelspec": {
   "display_name": "Python 3 (ipykernel)",
   "language": "python",
   "name": "python3"
  },
  "language_info": {
   "codemirror_mode": {
    "name": "ipython",
    "version": 3
   },
   "file_extension": ".py",
   "mimetype": "text/x-python",
   "name": "python",
   "nbconvert_exporter": "python",
   "pygments_lexer": "ipython3",
   "version": "3.10.8"
  }
 },
 "nbformat": 4,
 "nbformat_minor": 5
}
