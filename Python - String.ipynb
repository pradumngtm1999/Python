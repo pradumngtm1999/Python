{
 "cells": [
  {
   "cell_type": "markdown",
   "id": "bf883470-a5f2-491c-8332-4b7a7226e060",
   "metadata": {},
   "source": [
    "Q1 How can we store a single quote (‘) as a string in a var1able?"
   ]
  },
  {
   "cell_type": "code",
   "execution_count": 1,
   "id": "55a32cff-9ccd-4061-9ff5-042e18e0c135",
   "metadata": {},
   "outputs": [],
   "source": [
    "my_variable = \"This is a single quote: '\"\n"
   ]
  },
  {
   "cell_type": "code",
   "execution_count": 2,
   "id": "a6db02d6-aa4f-4953-8171-7b8f0eb8866b",
   "metadata": {},
   "outputs": [],
   "source": [
    "my_variable = 'This is a single quote: \\''\n"
   ]
  },
  {
   "cell_type": "code",
   "execution_count": 3,
   "id": "5d2e7dfd-932b-4b72-9546-7a91873d5dcc",
   "metadata": {},
   "outputs": [],
   "source": [
    "my_variable = '''This is a string with a single quote: ' inside it.'''\n"
   ]
  },
  {
   "cell_type": "markdown",
   "id": "9b9acd7f-e258-4f90-b5db-17357fbbe7e3",
   "metadata": {},
   "source": [
    "Q2.  Refer the below variable:\n",
    "x = ‘a(\n",
    "Here, is x a character type or string type variable? Support your answer with an explanation."
   ]
  },
  {
   "cell_type": "code",
   "execution_count": 6,
   "id": "58c30a19-9d11-4118-afaf-32b268b3cfd9",
   "metadata": {},
   "outputs": [],
   "source": [
    "x = 'a'  # Now x is a string containing the character 'a'\n",
    "\n"
   ]
  },
  {
   "cell_type": "markdown",
   "id": "42a815fc-b2d4-44ec-8cef-00fa7d905911",
   "metadata": {},
   "source": [
    "x is a string type variable, not a character type variable. In Python, a single character is represented as a string of length 1.\n",
    "\n",
    "Here's why x is considered a string:\n",
    "\n",
    "It is enclosed within single quotes ('). In Python, single quotes are used to define string literals.\n",
    "\n",
    "The value assigned to x is 'a(', which is a string of length 2, not just a single character.\n",
    "\n",
    "So, x is a string variable containing the characters 'a' and '('. If you want to work with a single character as a string, you can create a string with just that character, like this:"
   ]
  },
  {
   "cell_type": "markdown",
   "id": "82cb565a-1068-40fa-83ea-52792bf5df50",
   "metadata": {},
   "source": [
    "Q3.  Apply the follow1ng funct1ons on th1s var1able: ‘Welcome to Python foun at1on course'\n",
    "SP f1n (0\n",
    ".P count(0\n",
    "?P len(0\n",
    "P Concatenat1on\n",
    "Note: You can use your cho1ce of parametersQ But make sure 1t 1s correct."
   ]
  },
  {
   "cell_type": "code",
   "execution_count": 9,
   "id": "7bc9022c-f522-48a3-aab8-3df0e2593f9b",
   "metadata": {},
   "outputs": [
    {
     "name": "stdout",
     "output_type": "stream",
     "text": [
      "11\n"
     ]
    }
   ],
   "source": [
    "text = 'Welcome to Python foundation course'\n",
    "index = text.find('Python')\n",
    "print(index)  \n"
   ]
  },
  {
   "cell_type": "code",
   "execution_count": 8,
   "id": "c4c21e43-8cbf-4c7b-986f-0cad7372d92b",
   "metadata": {},
   "outputs": [
    {
     "name": "stdout",
     "output_type": "stream",
     "text": [
      "6\n"
     ]
    }
   ],
   "source": [
    "text = 'Welcome to Python foundation course'\n",
    "count = text.count('o')\n",
    "print(count)  \n"
   ]
  },
  {
   "cell_type": "code",
   "execution_count": 10,
   "id": "d554c414-1777-4f57-b043-3220cbc89adc",
   "metadata": {},
   "outputs": [
    {
     "name": "stdout",
     "output_type": "stream",
     "text": [
      "35\n"
     ]
    }
   ],
   "source": [
    "text = 'Welcome to Python foundation course'\n",
    "length = len(text)\n",
    "print(length)  \n"
   ]
  },
  {
   "cell_type": "code",
   "execution_count": 11,
   "id": "0900f9f2-7d92-4031-994a-ccccaa5892bd",
   "metadata": {},
   "outputs": [
    {
     "name": "stdout",
     "output_type": "stream",
     "text": [
      "Welcome to Python foundation course\n"
     ]
    }
   ],
   "source": [
    "text1 = 'Welcome to Python'\n",
    "text2 = ' foundation course'\n",
    "result = text1 + text2\n",
    "print(result)  \n"
   ]
  },
  {
   "cell_type": "markdown",
   "id": "8be02088-d9d8-4fab-842d-9de47e4f6c0c",
   "metadata": {},
   "source": [
    "Q4.  For the var1able: wor = ‘PanaJ1@T//56(\n",
    "Calculate the follow1ng:\n",
    "(a) Total number of alphabets 1n lowercase\n",
    "(b) Total number of alphabets 1n uppercase\n",
    "(c) Total number of numer1cal 1n str1ng"
   ]
  },
  {
   "cell_type": "code",
   "execution_count": 12,
   "id": "6c855d94-6800-4263-aa03-24ba809c59e1",
   "metadata": {},
   "outputs": [
    {
     "name": "stdout",
     "output_type": "stream",
     "text": [
      "Total number of lowercase alphabets: 3\n",
      "Total number of uppercase alphabets: 3\n",
      "Total number of numerical characters: 3\n"
     ]
    }
   ],
   "source": [
    "wor = 'PanaJ1@T//56('\n",
    "lowercase_count = 0\n",
    "uppercase_count = 0\n",
    "numerical_count = 0\n",
    "\n",
    "for char in wor:\n",
    "    if char.islower():\n",
    "        lowercase_count += 1\n",
    "    elif char.isupper():\n",
    "        uppercase_count += 1\n",
    "    elif char.isdigit():\n",
    "        numerical_count += 1\n",
    "\n",
    "print(\"Total number of lowercase alphabets:\", lowercase_count)\n",
    "print(\"Total number of uppercase alphabets:\", uppercase_count)\n",
    "print(\"Total number of numerical characters:\", numerical_count)\n"
   ]
  },
  {
   "cell_type": "markdown",
   "id": "f38791ed-f4c3-4d30-992e-bfb6cdc8edce",
   "metadata": {},
   "source": [
    "Q5. Wr1te a co e to store a numer1cal value 1ns1 e a var1able then convert 1t 1nto str1ngQ"
   ]
  },
  {
   "cell_type": "code",
   "execution_count": 14,
   "id": "0971efbe-cd0c-4241-b0bb-06ef00139234",
   "metadata": {},
   "outputs": [
    {
     "name": "stdout",
     "output_type": "stream",
     "text": [
      "<class 'str'>\n"
     ]
    }
   ],
   "source": [
    "# Store a numerical value in a variable\n",
    "number = 42\n",
    "\n",
    "# Convert the numerical value to a string\n",
    "number_as_string = str(number)\n",
    "\n",
    "# Check the type to verify it's a string\n",
    "print(type(number_as_string))  # Output: <class 'str'>\n"
   ]
  },
  {
   "cell_type": "code",
   "execution_count": null,
   "id": "f26d6a0f-7e87-46c1-b3e4-d3b0f4b8df67",
   "metadata": {},
   "outputs": [],
   "source": []
  }
 ],
 "metadata": {
  "kernelspec": {
   "display_name": "Python 3 (ipykernel)",
   "language": "python",
   "name": "python3"
  },
  "language_info": {
   "codemirror_mode": {
    "name": "ipython",
    "version": 3
   },
   "file_extension": ".py",
   "mimetype": "text/x-python",
   "name": "python",
   "nbconvert_exporter": "python",
   "pygments_lexer": "ipython3",
   "version": "3.10.8"
  }
 },
 "nbformat": 4,
 "nbformat_minor": 5
}
